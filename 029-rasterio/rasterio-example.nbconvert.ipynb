{
 "cells": [
  {
   "cell_type": "code",
   "execution_count": 2,
   "id": "15ab1800",
   "metadata": {
    "tags": [
     "mytag"
    ]
   },
   "outputs": [
    {
     "name": "stdout",
     "output_type": "stream",
     "text": [
      "Collecting rasterio\n",
      "  Using cached rasterio-1.2.10.tar.gz (2.3 MB)\n",
      "  Installing build dependencies ... \u001b[?25ldone\n",
      "\u001b[?25h  Getting requirements to build wheel ... \u001b[?25ldone\n",
      "\u001b[?25h  Preparing metadata (pyproject.toml) ... \u001b[?25ldone\n",
      "\u001b[?25hRequirement already satisfied: numpy in /Users/shoaib/.pyenv/versions/3.8.12/envs/venv3_8_12/lib/python3.8/site-packages (from rasterio) (1.22.3)\n",
      "Collecting affine\n",
      "  Downloading affine-2.3.1-py2.py3-none-any.whl (16 kB)\n",
      "Collecting attrs\n",
      "  Using cached attrs-21.4.0-py2.py3-none-any.whl (60 kB)\n",
      "Collecting snuggs>=1.4.1\n",
      "  Using cached snuggs-1.4.7-py3-none-any.whl (5.4 kB)\n",
      "Collecting cligj>=0.5\n",
      "  Using cached cligj-0.7.2-py3-none-any.whl (7.1 kB)\n",
      "Collecting click-plugins\n",
      "  Using cached click_plugins-1.1.1-py2.py3-none-any.whl (7.5 kB)\n",
      "Requirement already satisfied: click>=4.0 in /Users/shoaib/.pyenv/versions/3.8.12/envs/venv3_8_12/lib/python3.8/site-packages (from rasterio) (8.1.2)\n",
      "Requirement already satisfied: certifi in /Users/shoaib/.pyenv/versions/3.8.12/envs/venv3_8_12/lib/python3.8/site-packages (from rasterio) (2021.10.8)\n",
      "Requirement already satisfied: setuptools in /Users/shoaib/.pyenv/versions/3.8.12/envs/venv3_8_12/lib/python3.8/site-packages (from rasterio) (56.0.0)\n",
      "Collecting pyparsing>=2.1.6\n",
      "  Downloading pyparsing-3.0.9-py3-none-any.whl (98 kB)\n",
      "\u001b[2K     \u001b[38;2;114;156;31m━━━━━━━━━━━━━━━━━━━━━━━━━━━━━━━━━━━━━━━━\u001b[0m \u001b[32m98.3/98.3 KB\u001b[0m \u001b[31m1.5 MB/s\u001b[0m eta \u001b[36m0:00:00\u001b[0m MB/s\u001b[0m eta \u001b[36m0:00:01\u001b[0m\n",
      "\u001b[?25hBuilding wheels for collected packages: rasterio\n",
      "  Building wheel for rasterio (pyproject.toml) ... \u001b[?25ldone\n",
      "\u001b[?25h  Created wheel for rasterio: filename=rasterio-1.2.10-cp38-cp38-macosx_12_0_arm64.whl size=1233725 sha256=be52f775094c1bdf1ab46b6d4adfe4658d399ad467e8cfffe7088b01e8c6db51\n",
      "  Stored in directory: /Users/shoaib/Library/Caches/pip/wheels/e8/7c/da/42471594616ba0df3dad1f8401a26735fed8864375391b26a9\n",
      "Successfully built rasterio\n",
      "Installing collected packages: affine, pyparsing, cligj, click-plugins, attrs, snuggs, rasterio\n",
      "Successfully installed affine-2.3.1 attrs-21.4.0 click-plugins-1.1.1 cligj-0.7.2 pyparsing-3.0.9 rasterio-1.2.10 snuggs-1.4.7\n",
      "\u001b[33mWARNING: You are using pip version 22.0.4; however, version 22.1 is available.\n",
      "You should consider upgrading via the '/Users/shoaib/.pyenv/versions/3.8.12/envs/venv3_8_12/bin/python3.8 -m pip install --upgrade pip' command.\u001b[0m\u001b[33m\n",
      "\u001b[0m"
     ]
    }
   ],
   "source": [
    "!pip install rasterio\n"
   ]
  },
  {
   "cell_type": "code",
   "execution_count": 5,
   "id": "a7b11549",
   "metadata": {},
   "outputs": [],
   "source": [
    "# import rasterio"
   ]
  }
 ],
 "metadata": {
  "celltoolbar": "Tags",
  "kernelspec": {
   "display_name": "Python 3 (ipykernel)",
   "language": "python",
   "name": "python3"
  },
  "language_info": {
   "codemirror_mode": {
    "name": "ipython",
    "version": 3
   },
   "file_extension": ".py",
   "mimetype": "text/x-python",
   "name": "python",
   "nbconvert_exporter": "python",
   "pygments_lexer": "ipython3",
   "version": "3.9.10"
  }
 },
 "nbformat": 4,
 "nbformat_minor": 5
}
