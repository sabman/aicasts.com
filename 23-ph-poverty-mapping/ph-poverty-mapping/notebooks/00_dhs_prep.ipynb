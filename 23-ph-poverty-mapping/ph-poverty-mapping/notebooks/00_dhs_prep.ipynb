{
 "cells": [
  {
   "cell_type": "markdown",
   "metadata": {},
   "source": [
    "# Demographic and Health Survey (DHS) Data Preparation\n",
    "\n",
    "Download the Philippine National DHS Dataset from the [official website here](https://www.dhsprogram.com/what-we-do/survey/survey-display-510.cfm). Copy and unzip the file in the data directory. Importantly, the DHS folder should contain the following files:\n",
    "- `PHHR70DT/PHHR70FL.DTA`\n",
    "- `PHHR70DT/PHHR70FL.DO`"
   ]
  },
  {
   "cell_type": "markdown",
   "metadata": {},
   "source": [
    "## Imports"
   ]
  },
  {
   "cell_type": "code",
   "execution_count": 15,
   "metadata": {},
   "outputs": [],
   "source": [
    "import pandas as pd"
   ]
  },
  {
   "cell_type": "markdown",
   "metadata": {},
   "source": [
    "## File locations"
   ]
  },
  {
   "cell_type": "code",
   "execution_count": 16,
   "metadata": {},
   "outputs": [
    {
     "name": "stdout",
     "output_type": "stream",
     "text": [
      "../data/PHHR71DT/PHHR71FL.DO\n"
     ]
    }
   ],
   "source": [
    "data_dir = '../data/'\n",
    "dhs_zip = data_dir + ''\n",
    "dhs_file = dhs_zip + 'PHHR71DT/PHHR71FL.DTA'\n",
    "dhs_dict_file = dhs_zip + 'PHHR71DT/PHHR71FL.DO'\n",
    "print(dhs_dict_file)"
   ]
  },
  {
   "cell_type": "code",
   "execution_count": 17,
   "metadata": {},
   "outputs": [
    {
     "name": "stdout",
     "output_type": "stream",
     "text": [
      "\u001b[31m../data/PHHR71DT/PHHR71FL.DO\u001b[m\u001b[m\r\n"
     ]
    }
   ],
   "source": [
    "!ls ../data/PHHR71DT/PHHR71FL.DO\n"
   ]
  },
  {
   "cell_type": "markdown",
   "metadata": {},
   "source": [
    "## Helper Function"
   ]
  },
  {
   "cell_type": "code",
   "execution_count": 18,
   "metadata": {},
   "outputs": [],
   "source": [
    "def get_dhs_dict(dhs_dict_file):\n",
    "    dhs_dict = dict()\n",
    "    with open(dhs_dict_file, 'r', errors='replace') as file:\n",
    "        line = file.readline()\n",
    "        while line:\n",
    "            line = file.readline()\n",
    "            if 'label variable' in line:\n",
    "                code = line.split()[2]\n",
    "                colname = ' '.join([x.strip('\"') for x in line.split()[3:]])\n",
    "                dhs_dict[code] = colname\n",
    "    return dhs_dict"
   ]
  },
  {
   "cell_type": "markdown",
   "metadata": {},
   "source": [
    "## Load DHS Dataset"
   ]
  },
  {
   "cell_type": "code",
   "execution_count": 19,
   "metadata": {},
   "outputs": [
    {
     "name": "stdout",
     "output_type": "stream",
     "text": [
      "Data Dimensions: (27496, 339)\n"
     ]
    }
   ],
   "source": [
    "dhs = pd.read_stata(dhs_file, convert_categoricals=False)\n",
    "dhs_dict = get_dhs_dict(dhs_dict_file)\n",
    "dhs = dhs.rename(columns=dhs_dict).dropna(axis=1)\n",
    "print('Data Dimensions: {}'.format(dhs.shape))"
   ]
  },
  {
   "cell_type": "markdown",
   "metadata": {},
   "source": [
    "## Aggregate Columns"
   ]
  },
  {
   "cell_type": "code",
   "execution_count": 20,
   "metadata": {},
   "outputs": [
    {
     "name": "stdout",
     "output_type": "stream",
     "text": [
      "Data Dimensions: (1249, 4)\n"
     ]
    },
    {
     "data": {
      "text/html": [
       "<div>\n",
       "<style scoped>\n",
       "    .dataframe tbody tr th:only-of-type {\n",
       "        vertical-align: middle;\n",
       "    }\n",
       "\n",
       "    .dataframe tbody tr th {\n",
       "        vertical-align: top;\n",
       "    }\n",
       "\n",
       "    .dataframe thead tr th {\n",
       "        text-align: left;\n",
       "    }\n",
       "\n",
       "    .dataframe thead tr:last-of-type th {\n",
       "        text-align: right;\n",
       "    }\n",
       "</style>\n",
       "<table border=\"1\" class=\"dataframe\">\n",
       "  <thead>\n",
       "    <tr>\n",
       "      <th></th>\n",
       "      <th>Wealth Index</th>\n",
       "      <th>Education completed (years)</th>\n",
       "      <th>Access to electricity</th>\n",
       "      <th>Access to water (minutes)</th>\n",
       "    </tr>\n",
       "    <tr>\n",
       "      <th>Cluster number</th>\n",
       "      <th></th>\n",
       "      <th></th>\n",
       "      <th></th>\n",
       "      <th></th>\n",
       "    </tr>\n",
       "  </thead>\n",
       "  <tbody>\n",
       "    <tr>\n",
       "      <th>1</th>\n",
       "      <td>-31881.608696</td>\n",
       "      <td>9.391304</td>\n",
       "      <td>0.913043</td>\n",
       "      <td>0.0</td>\n",
       "    </tr>\n",
       "    <tr>\n",
       "      <th>2</th>\n",
       "      <td>-2855.375000</td>\n",
       "      <td>9.708333</td>\n",
       "      <td>0.958333</td>\n",
       "      <td>0.0</td>\n",
       "    </tr>\n",
       "    <tr>\n",
       "      <th>3</th>\n",
       "      <td>-57647.047619</td>\n",
       "      <td>8.428571</td>\n",
       "      <td>0.857143</td>\n",
       "      <td>0.0</td>\n",
       "    </tr>\n",
       "    <tr>\n",
       "      <th>4</th>\n",
       "      <td>-54952.666667</td>\n",
       "      <td>6.714286</td>\n",
       "      <td>0.809524</td>\n",
       "      <td>0.0</td>\n",
       "    </tr>\n",
       "    <tr>\n",
       "      <th>5</th>\n",
       "      <td>-77819.160000</td>\n",
       "      <td>8.240000</td>\n",
       "      <td>0.920000</td>\n",
       "      <td>0.0</td>\n",
       "    </tr>\n",
       "    <tr>\n",
       "      <th>6</th>\n",
       "      <td>-80701.695652</td>\n",
       "      <td>8.086957</td>\n",
       "      <td>0.869565</td>\n",
       "      <td>10.0</td>\n",
       "    </tr>\n",
       "    <tr>\n",
       "      <th>7</th>\n",
       "      <td>-62490.538462</td>\n",
       "      <td>7.500000</td>\n",
       "      <td>0.807692</td>\n",
       "      <td>0.0</td>\n",
       "    </tr>\n",
       "    <tr>\n",
       "      <th>8</th>\n",
       "      <td>-80889.666667</td>\n",
       "      <td>4.958333</td>\n",
       "      <td>0.958333</td>\n",
       "      <td>0.0</td>\n",
       "    </tr>\n",
       "    <tr>\n",
       "      <th>9</th>\n",
       "      <td>-77994.520000</td>\n",
       "      <td>6.640000</td>\n",
       "      <td>0.800000</td>\n",
       "      <td>0.0</td>\n",
       "    </tr>\n",
       "    <tr>\n",
       "      <th>10</th>\n",
       "      <td>-135511.961538</td>\n",
       "      <td>5.153846</td>\n",
       "      <td>0.346154</td>\n",
       "      <td>25.0</td>\n",
       "    </tr>\n",
       "  </tbody>\n",
       "</table>\n",
       "</div>"
      ],
      "text/plain": [
       "                 Wealth Index Education completed (years)  \\\n",
       "Cluster number                                              \n",
       "1               -31881.608696                    9.391304   \n",
       "2                -2855.375000                    9.708333   \n",
       "3               -57647.047619                    8.428571   \n",
       "4               -54952.666667                    6.714286   \n",
       "5               -77819.160000                    8.240000   \n",
       "6               -80701.695652                    8.086957   \n",
       "7               -62490.538462                    7.500000   \n",
       "8               -80889.666667                    4.958333   \n",
       "9               -77994.520000                    6.640000   \n",
       "10             -135511.961538                    5.153846   \n",
       "\n",
       "               Access to electricity Access to water (minutes)  \n",
       "Cluster number                                                  \n",
       "1                           0.913043                       0.0  \n",
       "2                           0.958333                       0.0  \n",
       "3                           0.857143                       0.0  \n",
       "4                           0.809524                       0.0  \n",
       "5                           0.920000                       0.0  \n",
       "6                           0.869565                      10.0  \n",
       "7                           0.807692                       0.0  \n",
       "8                           0.958333                       0.0  \n",
       "9                           0.800000                       0.0  \n",
       "10                          0.346154                      25.0  "
      ]
     },
     "execution_count": 20,
     "metadata": {},
     "output_type": "execute_result"
    }
   ],
   "source": [
    "data = dhs[[\n",
    "    'Cluster number',\n",
    "    'Wealth index factor score combined (5 decimals)',\n",
    "    'Education completed in single years',\n",
    "    'Has electricity'\n",
    "]].groupby('Cluster number').mean()\n",
    "\n",
    "data['Time to get to water source (minutes)'] = dhs[[\n",
    "    'Cluster number',\n",
    "    'Time to get to water source (minutes)'\n",
    "]].replace(996, 0).groupby('Cluster number').median()\n",
    "\n",
    "data.columns = [[\n",
    "    'Wealth Index',\n",
    "    'Education completed (years)',\n",
    "    'Access to electricity',\n",
    "    'Access to water (minutes)'\n",
    "]]\n",
    "\n",
    "print('Data Dimensions: {}'.format(data.shape))\n",
    "data.head(10)"
   ]
  },
  {
   "cell_type": "markdown",
   "metadata": {},
   "source": [
    "## Save Processed DHS File"
   ]
  },
  {
   "cell_type": "code",
   "execution_count": 21,
   "metadata": {},
   "outputs": [],
   "source": [
    "data.to_csv(data_dir+'dhs_indicators.csv')"
   ]
  },
  {
   "cell_type": "code",
   "execution_count": null,
   "metadata": {},
   "outputs": [],
   "source": []
  }
 ],
 "metadata": {
  "kernelspec": {
   "display_name": "Python 3",
   "language": "python",
   "name": "python3"
  },
  "language_info": {
   "codemirror_mode": {
    "name": "ipython",
    "version": 3
   },
   "file_extension": ".py",
   "mimetype": "text/x-python",
   "name": "python",
   "nbconvert_exporter": "python",
   "pygments_lexer": "ipython3",
   "version": "3.6.7"
  },
  "toc": {
   "toc_cell": false,
   "toc_number_sections": true,
   "toc_threshold": 6,
   "toc_window_display": false
  }
 },
 "nbformat": 4,
 "nbformat_minor": 4
}
