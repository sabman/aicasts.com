{
 "cells": [
  {
   "cell_type": "markdown",
   "metadata": {},
   "source": [
    "# Demographic and Health Survey (DHS) Data Preparation\n",
    "\n",
    "Download the Philippine National DHS Dataset from the [official website here](https://www.dhsprogram.com/what-we-do/survey/survey-display-510.cfm). Copy and unzip the file in the data directory. Importantly, the DHS folder should contain the following files:\n",
    "- `PHHR70DT/PHHR70FL.DTA`\n",
    "- `PHHR70DT/PHHR70FL.DO`"
   ]
  },
  {
   "cell_type": "markdown",
   "metadata": {},
   "source": [
    "## Imports"
   ]
  },
  {
   "cell_type": "code",
   "execution_count": 49,
   "metadata": {},
   "outputs": [],
   "source": [
    "import pandas as pd"
   ]
  },
  {
   "cell_type": "markdown",
   "metadata": {},
   "source": [
    "## File locations"
   ]
  },
  {
   "cell_type": "code",
   "execution_count": 50,
   "metadata": {},
   "outputs": [],
   "source": [
    "data_dir = '../data/'\n",
    "dhs_zip = data_dir + '<INSERT DHS FOLDER NAME HERE>/'\n",
    "dhs_file = dhs_zip + 'PHHR70DT/PHHR70FL.DTA'\n",
    "dhs_dict_file = dhs_zip + 'PHHR70DT/PHHR70FL.DO'"
   ]
  },
  {
   "cell_type": "markdown",
   "metadata": {},
   "source": [
    "## Helper Function"
   ]
  },
  {
   "cell_type": "code",
   "execution_count": 51,
   "metadata": {},
   "outputs": [],
   "source": [
    "def get_dhs_dict(dhs_dict_file):\n",
    "    dhs_dict = dict()\n",
    "    with open(dhs_dict_file, 'r', errors='replace') as file:\n",
    "        line = file.readline()\n",
    "        while line:\n",
    "            line = file.readline()\n",
    "            if 'label variable' in line:\n",
    "                code = line.split()[2]\n",
    "                colname = ' '.join([x.strip('\"') for x in line.split()[3:]])\n",
    "                dhs_dict[code] = colname\n",
    "    return dhs_dict"
   ]
  },
  {
   "cell_type": "markdown",
   "metadata": {},
   "source": [
    "## Load DHS Dataset"
   ]
  },
  {
   "cell_type": "code",
   "execution_count": 55,
   "metadata": {},
   "outputs": [
    {
     "name": "stdout",
     "output_type": "stream",
     "text": [
      "Data Dimensions: (27496, 342)\n"
     ]
    }
   ],
   "source": [
    "dhs = pd.read_stata(dhs_file, convert_categoricals=False)\n",
    "dhs_dict = get_dhs_dict(dhs_dict_file)\n",
    "dhs = dhs.rename(columns=dhs_dict).dropna(axis=1)\n",
    "print('Data Dimensions: {}'.format(dhs.shape))"
   ]
  },
  {
   "cell_type": "markdown",
   "metadata": {},
   "source": [
    "## Aggregate Columns"
   ]
  },
  {
   "cell_type": "code",
   "execution_count": 56,
   "metadata": {},
   "outputs": [
    {
     "name": "stdout",
     "output_type": "stream",
     "text": [
      "Data Dimensions: (1249, 4)\n"
     ]
    },
    {
     "data": {
      "text/html": [
       "<div>\n",
       "<style scoped>\n",
       "    .dataframe tbody tr th:only-of-type {\n",
       "        vertical-align: middle;\n",
       "    }\n",
       "\n",
       "    .dataframe tbody tr th {\n",
       "        vertical-align: top;\n",
       "    }\n",
       "\n",
       "    .dataframe thead tr th {\n",
       "        text-align: left;\n",
       "    }\n",
       "\n",
       "    .dataframe thead tr:last-of-type th {\n",
       "        text-align: right;\n",
       "    }\n",
       "</style>\n",
       "<table border=\"1\" class=\"dataframe\">\n",
       "  <thead>\n",
       "    <tr>\n",
       "      <th></th>\n",
       "      <th>Wealth Index</th>\n",
       "      <th>Education completed (years)</th>\n",
       "      <th>Access to electricity</th>\n",
       "      <th>Access to water (minutes)</th>\n",
       "    </tr>\n",
       "    <tr>\n",
       "      <th>Cluster number</th>\n",
       "      <th></th>\n",
       "      <th></th>\n",
       "      <th></th>\n",
       "      <th></th>\n",
       "    </tr>\n",
       "  </thead>\n",
       "  <tbody>\n",
       "    <tr>\n",
       "      <td>1</td>\n",
       "      <td>-31881.608696</td>\n",
       "      <td>9.391304</td>\n",
       "      <td>0.913043</td>\n",
       "      <td>0.0</td>\n",
       "    </tr>\n",
       "    <tr>\n",
       "      <td>2</td>\n",
       "      <td>-2855.375000</td>\n",
       "      <td>9.708333</td>\n",
       "      <td>0.958333</td>\n",
       "      <td>0.0</td>\n",
       "    </tr>\n",
       "  </tbody>\n",
       "</table>\n",
       "</div>"
      ],
      "text/plain": [
       "                Wealth Index Education completed (years)  \\\n",
       "Cluster number                                             \n",
       "1              -31881.608696                    9.391304   \n",
       "2               -2855.375000                    9.708333   \n",
       "\n",
       "               Access to electricity Access to water (minutes)  \n",
       "Cluster number                                                  \n",
       "1                           0.913043                       0.0  \n",
       "2                           0.958333                       0.0  "
      ]
     },
     "execution_count": 56,
     "metadata": {},
     "output_type": "execute_result"
    }
   ],
   "source": [
    "data = dhs[[\n",
    "    'Cluster number',\n",
    "    'Wealth index factor score combined (5 decimals)',\n",
    "    'Education completed in single years',\n",
    "    'Has electricity'\n",
    "]].groupby('Cluster number').mean()\n",
    "\n",
    "data['Time to get to water source (minutes)'] = dhs[[\n",
    "    'Cluster number',\n",
    "    'Time to get to water source (minutes)'\n",
    "]].replace(996, 0).groupby('Cluster number').median()\n",
    "\n",
    "data.columns = [[\n",
    "    'Wealth Index',\n",
    "    'Education completed (years)',\n",
    "    'Access to electricity',\n",
    "    'Access to water (minutes)'\n",
    "]]\n",
    "\n",
    "print('Data Dimensions: {}'.format(data.shape))\n",
    "data.head(2)"
   ]
  },
  {
   "cell_type": "markdown",
   "metadata": {},
   "source": [
    "## Save Processed DHS File"
   ]
  },
  {
   "cell_type": "code",
   "execution_count": 54,
   "metadata": {},
   "outputs": [],
   "source": [
    "data.to_csv(data_dir+'dhs_indicators.csv')"
   ]
  }
 ],
 "metadata": {
  "kernelspec": {
   "display_name": "venv",
   "language": "python",
   "name": "venv"
  },
  "language_info": {
   "codemirror_mode": {
    "name": "ipython",
    "version": 3
   },
   "file_extension": ".py",
   "mimetype": "text/x-python",
   "name": "python",
   "nbconvert_exporter": "python",
   "pygments_lexer": "ipython3",
   "version": "3.7.3"
  }
 },
 "nbformat": 4,
 "nbformat_minor": 4
}
