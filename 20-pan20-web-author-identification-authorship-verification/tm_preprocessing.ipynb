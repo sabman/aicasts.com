{
 "cells": [
  {
   "cell_type": "markdown",
   "metadata": {},
   "source": [
    "# Preprocess"
   ]
  },
  {
   "cell_type": "code",
   "execution_count": 31,
   "metadata": {},
   "outputs": [],
   "source": [
    "import shutil\n",
    "import os\n",
    "import glob\n",
    "import random\n",
    "import json\n",
    "\n",
    "rnd_seed = 1234\n",
    "random.seed(rnd_seed)\n",
    "\n",
    "import spacy"
   ]
  },
  {
   "cell_type": "code",
   "execution_count": 16,
   "metadata": {},
   "outputs": [],
   "source": [
    "def clean_dir(dirname):\n",
    "    try:\n",
    "        shutil.rmtree(dirname)\n",
    "    except FileNotFoundError:\n",
    "        pass\n",
    "    os.mkdir(dirname)"
   ]
  },
  {
   "cell_type": "code",
   "execution_count": 17,
   "metadata": {},
   "outputs": [],
   "source": [
    "allowed = set('ADJ NOUN VERB'.split())"
   ]
  },
  {
   "cell_type": "code",
   "execution_count": 18,
   "metadata": {},
   "outputs": [],
   "source": [
    "nlp = spacy.load('en_core_web_sm', disable=['parser', 'ner'])\n",
    "nlp.max_length = 10000000"
   ]
  },
  {
   "cell_type": "code",
   "execution_count": 27,
   "metadata": {},
   "outputs": [],
   "source": [
    "def plain_text(infile, outdir, max_pairs=None):\n",
    "    clean_dir(outdir)\n",
    "    \n",
    "    with open(infile) as inf:\n",
    "        for line_idx, line in enumerate(inf):\n",
    "            if max_pairs and line_idx >= max_pairs:\n",
    "                break\n",
    "            pair = json.loads(line)\n",
    "            pair_id = pair['id']\n",
    "            for idx, text in enumerate(pair['pair']):\n",
    "                text_idx = pair_id + '_' + str(idx)\n",
    "                tokens = nlp(text)\n",
    "                if not tokens:\n",
    "                    continue\n",
    "                new_fn = f'{outdir}/{text_idx}.txt'\n",
    "                with open(new_fn, 'w') as f:\n",
    "                    for t in tokens:\n",
    "                        if t.pos_ in allowed and t.is_alpha and not t.is_stop:\n",
    "                            w = t.text.lower()\n",
    "                            if len(w) > 1:\n",
    "                                f.write(w + ' ')"
   ]
  },
  {
   "cell_type": "code",
   "execution_count": 30,
   "metadata": {},
   "outputs": [],
   "source": [
    "plain_text(infile='datasets/pan20-authorship-verification-training-small/pairs.jsonl',\n",
    "           outdir='plain_text_train_small',\n",
    "           max_pairs=None)"
   ]
  }
 ],
 "metadata": {
  "kernelspec": {
   "display_name": "Python (n36)",
   "language": "python",
   "name": "n36"
  },
  "language_info": {
   "codemirror_mode": {
    "name": "ipython",
    "version": 3
   },
   "file_extension": ".py",
   "mimetype": "text/x-python",
   "name": "python",
   "nbconvert_exporter": "python",
   "pygments_lexer": "ipython3",
   "version": "3.6.10"
  }
 },
 "nbformat": 4,
 "nbformat_minor": 4
}
